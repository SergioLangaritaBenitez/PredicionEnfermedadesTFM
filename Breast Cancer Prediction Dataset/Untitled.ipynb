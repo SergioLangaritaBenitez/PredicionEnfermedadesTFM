{
 "cells": [
  {
   "cell_type": "code",
   "execution_count": 1,
   "id": "8e2076cb",
   "metadata": {},
   "outputs": [],
   "source": [
    "import pandas as pd\n",
    "import os\n",
    "import numpy as np\n",
    "import openpyxl\n",
    "import matplotlib\n",
    "import matplotlib.pyplot as plt\n",
    "from sklearn.model_selection import train_test_split\n",
    "from sklearn import svm\n",
    "from sklearn.metrics import confusion_matrix, ConfusionMatrixDisplay\n",
    "import warnings; warnings.simplefilter('ignore')\n",
    "from sklearn.model_selection import cross_validate\n",
    "from sklearn.metrics import recall_score\n",
    "from sklearn.linear_model import LogisticRegression\n",
    "from sklearn.cluster import KMeans\n",
    "from sklearn.model_selection import ShuffleSplit\n",
    "from tabulate import tabulate\n",
    "import pickle\n",
    "import json\n",
    "from sklearn.metrics import mean_absolute_error\n",
    "from sklearn.metrics import mean_squared_error\n",
    "\n",
    "FILE_NAME='./data/Breast_cancer_data.xls'\n",
    "df = pd.read_csv('./data/Breast_cancer_data.csv')"
   ]
  },
  {
   "cell_type": "code",
   "execution_count": 2,
   "id": "645f88d1",
   "metadata": {},
   "outputs": [
    {
     "name": "stdout",
     "output_type": "stream",
     "text": [
      "Número total de filas del dataset 569\n",
      "Número total de diagnosis a 0: 212  0.37258347978910367\n",
      "Número total de diagnosis a 1: 357  0.6274165202108963\n",
      "Null en el dataset: 0\n"
     ]
    }
   ],
   "source": [
    "total=df['diagnosis'].count()\n",
    "dia1=df['diagnosis'][df.diagnosis==1].count()\n",
    "dia0=df['diagnosis'][df.diagnosis==0].count()\n",
    "print(\"Número total de filas del dataset \"+ str(total) )\n",
    "print(\"Número total de diagnosis a 0: \"+ str(dia0)+\"  \" +str(dia0/total) )\n",
    "print(\"Número total de diagnosis a 1: \"+ str(dia1)+\"  \" +str(dia1/total) )\n",
    "print(\"Null en el dataset: \"+ str(df.isnull().sum().sum() ))"
   ]
  },
  {
   "cell_type": "code",
   "execution_count": null,
   "id": "edabe529",
   "metadata": {},
   "outputs": [],
   "source": []
  },
  {
   "cell_type": "code",
   "execution_count": 3,
   "id": "6a90c4c6",
   "metadata": {},
   "outputs": [],
   "source": [
    "train, test = train_test_split(df, test_size=0.2)"
   ]
  },
  {
   "cell_type": "code",
   "execution_count": 4,
   "id": "3943c412",
   "metadata": {},
   "outputs": [
    {
     "name": "stdout",
     "output_type": "stream",
     "text": [
      "Número total de filas del train 455\n",
      "Número total de filas del test 114\n"
     ]
    }
   ],
   "source": [
    "trainn=train['diagnosis'].count()\n",
    "testn=test['diagnosis'].count()\n",
    "print(\"Número total de filas del train \"+ str(trainn))\n",
    "print(\"Número total de filas del test \"+ str(testn))"
   ]
  },
  {
   "cell_type": "code",
   "execution_count": 5,
   "id": "cd329dbc",
   "metadata": {},
   "outputs": [
    {
     "data": {
      "text/html": [
       "<div>\n",
       "<style scoped>\n",
       "    .dataframe tbody tr th:only-of-type {\n",
       "        vertical-align: middle;\n",
       "    }\n",
       "\n",
       "    .dataframe tbody tr th {\n",
       "        vertical-align: top;\n",
       "    }\n",
       "\n",
       "    .dataframe thead th {\n",
       "        text-align: right;\n",
       "    }\n",
       "</style>\n",
       "<table border=\"1\" class=\"dataframe\">\n",
       "  <thead>\n",
       "    <tr style=\"text-align: right;\">\n",
       "      <th></th>\n",
       "      <th>mean_radius</th>\n",
       "      <th>mean_texture</th>\n",
       "      <th>mean_perimeter</th>\n",
       "      <th>mean_area</th>\n",
       "      <th>mean_smoothness</th>\n",
       "      <th>diagnosis</th>\n",
       "    </tr>\n",
       "  </thead>\n",
       "  <tbody>\n",
       "    <tr>\n",
       "      <th>mean_radius</th>\n",
       "      <td>1.000000</td>\n",
       "      <td>0.358734</td>\n",
       "      <td>0.997786</td>\n",
       "      <td>0.987714</td>\n",
       "      <td>0.164672</td>\n",
       "      <td>-0.740788</td>\n",
       "    </tr>\n",
       "    <tr>\n",
       "      <th>mean_texture</th>\n",
       "      <td>0.358734</td>\n",
       "      <td>1.000000</td>\n",
       "      <td>0.363574</td>\n",
       "      <td>0.347559</td>\n",
       "      <td>-0.002166</td>\n",
       "      <td>-0.430766</td>\n",
       "    </tr>\n",
       "    <tr>\n",
       "      <th>mean_perimeter</th>\n",
       "      <td>0.997786</td>\n",
       "      <td>0.363574</td>\n",
       "      <td>1.000000</td>\n",
       "      <td>0.986894</td>\n",
       "      <td>0.202896</td>\n",
       "      <td>-0.752194</td>\n",
       "    </tr>\n",
       "    <tr>\n",
       "      <th>mean_area</th>\n",
       "      <td>0.987714</td>\n",
       "      <td>0.347559</td>\n",
       "      <td>0.986894</td>\n",
       "      <td>1.000000</td>\n",
       "      <td>0.177029</td>\n",
       "      <td>-0.718771</td>\n",
       "    </tr>\n",
       "    <tr>\n",
       "      <th>mean_smoothness</th>\n",
       "      <td>0.164672</td>\n",
       "      <td>-0.002166</td>\n",
       "      <td>0.202896</td>\n",
       "      <td>0.177029</td>\n",
       "      <td>1.000000</td>\n",
       "      <td>-0.365023</td>\n",
       "    </tr>\n",
       "    <tr>\n",
       "      <th>diagnosis</th>\n",
       "      <td>-0.740788</td>\n",
       "      <td>-0.430766</td>\n",
       "      <td>-0.752194</td>\n",
       "      <td>-0.718771</td>\n",
       "      <td>-0.365023</td>\n",
       "      <td>1.000000</td>\n",
       "    </tr>\n",
       "  </tbody>\n",
       "</table>\n",
       "</div>"
      ],
      "text/plain": [
       "                 mean_radius  mean_texture  mean_perimeter  mean_area  \\\n",
       "mean_radius         1.000000      0.358734        0.997786   0.987714   \n",
       "mean_texture        0.358734      1.000000        0.363574   0.347559   \n",
       "mean_perimeter      0.997786      0.363574        1.000000   0.986894   \n",
       "mean_area           0.987714      0.347559        0.986894   1.000000   \n",
       "mean_smoothness     0.164672     -0.002166        0.202896   0.177029   \n",
       "diagnosis          -0.740788     -0.430766       -0.752194  -0.718771   \n",
       "\n",
       "                 mean_smoothness  diagnosis  \n",
       "mean_radius             0.164672  -0.740788  \n",
       "mean_texture           -0.002166  -0.430766  \n",
       "mean_perimeter          0.202896  -0.752194  \n",
       "mean_area               0.177029  -0.718771  \n",
       "mean_smoothness         1.000000  -0.365023  \n",
       "diagnosis              -0.365023   1.000000  "
      ]
     },
     "execution_count": 5,
     "metadata": {},
     "output_type": "execute_result"
    }
   ],
   "source": [
    "corrM = train.corr()\n",
    "corrM"
   ]
  },
  {
   "cell_type": "code",
   "execution_count": 6,
   "id": "8fde31bd",
   "metadata": {},
   "outputs": [
    {
     "name": "stdout",
     "output_type": "stream",
     "text": [
      "     mean_radius  mean_texture  mean_perimeter  mean_area  mean_smoothness  \\\n",
      "290     0.512629      0.502291        0.509443   0.260296          0.08757   \n",
      "552     0.454287      0.749236        0.431565   0.203079          0.08276   \n",
      "34      0.573817      0.455193        0.567639   0.322751          0.10400   \n",
      "105     0.466382      0.396130        0.462653   0.211995          0.13980   \n",
      "130     0.433654      0.338340        0.419523   0.182247          0.10660   \n",
      "..           ...           ...             ...        ...              ...   \n",
      "165     0.532551      0.503055        0.506631   0.275970          0.08421   \n",
      "283     0.577730      0.477851        0.577188   0.321911          0.10660   \n",
      "158     0.429029      0.324338        0.407639   0.179368          0.09311   \n",
      "66      0.336713      0.534878        0.318886   0.107717          0.10440   \n",
      "411     0.392743      0.428462        0.376233   0.149220          0.10770   \n",
      "\n",
      "     diagnosis  \n",
      "290          1  \n",
      "552          1  \n",
      "34           0  \n",
      "105          0  \n",
      "130          1  \n",
      "..         ...  \n",
      "165          1  \n",
      "283          0  \n",
      "158          1  \n",
      "66           1  \n",
      "411          1  \n",
      "\n",
      "[455 rows x 6 columns]\n",
      "     mean_radius  mean_texture  mean_perimeter  mean_area  mean_smoothness  \\\n",
      "558     0.519032      0.577393        0.511353   0.262735          0.08473   \n",
      "41      0.389541      0.543534        0.381432   0.148381          0.12270   \n",
      "547     0.364995      0.422098        0.349337   0.128269          0.08877   \n",
      "245     0.372821      0.505601        0.353952   0.135026          0.10700   \n",
      "80      0.407328      0.533859        0.391565   0.160536          0.11020   \n",
      "..           ...           ...             ...        ...              ...   \n",
      "58      0.464248      0.491599        0.438249   0.210796          0.08060   \n",
      "228     0.448951      0.610234        0.431565   0.198481          0.07903   \n",
      "170     0.438278      0.315428        0.418302   0.185566          0.10280   \n",
      "431     0.441124      0.450102        0.432202   0.187045          0.10540   \n",
      "253     0.615439      0.434827        0.599469   0.371132          0.10080   \n",
      "\n",
      "     diagnosis  \n",
      "558          1  \n",
      "41           0  \n",
      "547          1  \n",
      "245          1  \n",
      "80           1  \n",
      "..         ...  \n",
      "58           1  \n",
      "228          1  \n",
      "170          1  \n",
      "431          1  \n",
      "253          0  \n",
      "\n",
      "[114 rows x 6 columns]\n"
     ]
    }
   ],
   "source": [
    "#Normalización por columnas de train and test\n",
    "\n",
    "#Obtención del máximo por columna\n",
    "max_radius=train[\"mean_radius\"].max()\n",
    "max_texture=train[\"mean_texture\"].max()\n",
    "max_perimeter=train[\"mean_perimeter\"].max()\n",
    "max_area=train[\"mean_area\"].max()\n",
    "max_perimeter=train[\"mean_perimeter\"].max()\n",
    "\n",
    "def norm(df,max_radius,max_texture,max_perimeter,max_area):\n",
    "    df_nom=df\n",
    "    df_nom[\"mean_radius\"]=df_nom[\"mean_radius\"]/max_radius\n",
    "    df_nom[\"mean_texture\"]=df_nom[\"mean_texture\"]/max_texture\n",
    "    df_nom[\"mean_perimeter\"]=df_nom[\"mean_perimeter\"]/max_perimeter\n",
    "    df_nom[\"mean_area\"]=df_nom[\"mean_area\"]/max_area\n",
    "    return df_nom\n",
    "\n",
    "df_train_nom=norm(train,max_radius,max_texture,max_perimeter,max_area)\n",
    "print(df_train_nom)\n",
    "\n",
    "df_test_nom=norm(test,max_radius,max_texture,max_perimeter,max_area)\n",
    "print(df_test_nom)"
   ]
  },
  {
   "cell_type": "code",
   "execution_count": 7,
   "id": "907a870e",
   "metadata": {},
   "outputs": [
    {
     "data": {
      "image/png": "[encoded data removed]",
      "text/plain": [
       "<Figure size 432x288 with 1 Axes>"
      ]
     },
     "metadata": {
      "needs_background": "light"
     },
     "output_type": "display_data"
    }
   ],
   "source": [
    "hist = df_train_nom[\"mean_radius\"].hist(bins=30)\n",
    "hist = df_train_nom[df_train_nom.diagnosis==0][\"mean_radius\"].hist(bins=30)\n",
    "hist = df_train_nom[df_train_nom.diagnosis==1][\"mean_radius\"].hist(bins=30)"
   ]
  },
  {
   "cell_type": "code",
   "execution_count": 8,
   "id": "86453eb8",
   "metadata": {},
   "outputs": [
    {
     "data": {
      "image/png": "[encoded data removed]",
      "text/plain": [
       "<Figure size 432x288 with 1 Axes>"
      ]
     },
     "metadata": {
      "needs_background": "light"
     },
     "output_type": "display_data"
    }
   ],
   "source": [
    "hist = df_train_nom[\"mean_texture\"].hist(bins=20)\n",
    "hist = df_train_nom[df_train_nom.diagnosis==0][\"mean_texture\"].hist(bins=30)\n",
    "hist = df_train_nom[df_train_nom.diagnosis==1][\"mean_texture\"].hist(bins=30)"
   ]
  },
  {
   "cell_type": "code",
   "execution_count": 9,
   "id": "eb23f201",
   "metadata": {},
   "outputs": [
    {
     "data": {
      "image/png": "[encoded data removed]",
      "text/plain": [
       "<Figure size 432x288 with 1 Axes>"
      ]
     },
     "metadata": {
      "needs_background": "light"
     },
     "output_type": "display_data"
    }
   ],
   "source": [
    "hist = df_train_nom[\"mean_perimeter\"].hist(bins=30)\n",
    "hist = df_train_nom[df_train_nom.diagnosis==0][\"mean_perimeter\"].hist(bins=30)\n",
    "hist = df_train_nom[df_train_nom.diagnosis==1][\"mean_perimeter\"].hist(bins=30)"
   ]
  },
  {
   "cell_type": "code",
   "execution_count": 10,
   "id": "ef2b2943",
   "metadata": {},
   "outputs": [
    {
     "data": {
      "image/png": "[encoded data removed]",
      "text/plain": [
       "<Figure size 432x288 with 1 Axes>"
      ]
     },
     "metadata": {
      "needs_background": "light"
     },
     "output_type": "display_data"
    }
   ],
   "source": [
    "hist = df_train_nom[\"mean_area\"].hist(bins=30)\n",
    "hist = df_train_nom[df_train_nom.diagnosis==0][\"mean_area\"].hist(bins=30)\n",
    "hist = df_train_nom[df_train_nom.diagnosis==1][\"mean_area\"].hist(bins=30)"
   ]
  },
  {
   "cell_type": "code",
   "execution_count": 11,
   "id": "60da0350",
   "metadata": {},
   "outputs": [
    {
     "data": {
      "image/png": "[encoded data removed]",
      "text/plain": [
       "<Figure size 432x288 with 1 Axes>"
      ]
     },
     "metadata": {
      "needs_background": "light"
     },
     "output_type": "display_data"
    }
   ],
   "source": [
    "hist = df_train_nom[\"mean_smoothness\"].hist(bins=30)\n",
    "hist = df_train_nom[df_train_nom.diagnosis==0][\"mean_smoothness\"].hist(bins=30)\n",
    "hist = df_train_nom[df_train_nom.diagnosis==1][\"mean_smoothness\"].hist(bins=30)"
   ]
  },
  {
   "cell_type": "code",
   "execution_count": 12,
   "id": "763ca4a3",
   "metadata": {},
   "outputs": [
    {
     "data": {
      "image/png": "[encoded data removed]",
      "text/plain": [
       "<Figure size 432x288 with 1 Axes>"
      ]
     },
     "metadata": {
      "needs_background": "light"
     },
     "output_type": "display_data"
    }
   ],
   "source": [
    "plt.plot(df_train_nom.mean_radius[df_train_nom.diagnosis==1], df_train_nom.mean_texture[df_train_nom.diagnosis==1], 'o')\n",
    "plt.plot(df_train_nom.mean_radius[df_train_nom.diagnosis==0], df_train_nom.mean_texture[df_train_nom.diagnosis==0], 'o')\n",
    "\n",
    "plt.show()"
   ]
  },
  {
   "cell_type": "code",
   "execution_count": 13,
   "id": "4633c44b",
   "metadata": {},
   "outputs": [
    {
     "data": {
      "image/png": "[encoded data removed]",
      "text/plain": [
       "<Figure size 432x288 with 1 Axes>"
      ]
     },
     "metadata": {
      "needs_background": "light"
     },
     "output_type": "display_data"
    }
   ],
   "source": [
    "plt.plot(df_train_nom.mean_radius[df_train_nom.diagnosis==1], df_train_nom.mean_perimeter[df_train_nom.diagnosis==1], 'o')\n",
    "plt.plot(df_train_nom.mean_radius[df_train_nom.diagnosis==0], df_train_nom.mean_perimeter[df_train_nom.diagnosis==0], 'o')\n",
    "plt.show()"
   ]
  },
  {
   "cell_type": "code",
   "execution_count": 14,
   "id": "2eb11596",
   "metadata": {},
   "outputs": [
    {
     "data": {
      "image/png": "[encoded data removed]",
      "text/plain": [
       "<Figure size 432x288 with 1 Axes>"
      ]
     },
     "metadata": {
      "needs_background": "light"
     },
     "output_type": "display_data"
    }
   ],
   "source": [
    "plt.plot(df_train_nom.mean_radius[df_train_nom.diagnosis==1], df_train_nom.mean_area[df_train_nom.diagnosis==1], 'o')\n",
    "plt.plot(df_train_nom.mean_radius[df_train_nom.diagnosis==0], df_train_nom.mean_area[df_train_nom.diagnosis==0], 'o')\n",
    "plt.show()"
   ]
  },
  {
   "cell_type": "code",
   "execution_count": 15,
   "id": "91b26ed7",
   "metadata": {},
   "outputs": [
    {
     "data": {
      "image/png": "[encoded data removed]",
      "text/plain": [
       "<Figure size 432x288 with 1 Axes>"
      ]
     },
     "metadata": {
      "needs_background": "light"
     },
     "output_type": "display_data"
    }
   ],
   "source": [
    "plt.plot(df_train_nom.mean_radius[df_train_nom.diagnosis==1], df_train_nom.mean_smoothness[df_train_nom.diagnosis==1], 'o')\n",
    "plt.plot(df_train_nom.mean_radius[df_train_nom.diagnosis==0], df_train_nom.mean_smoothness[df_train_nom.diagnosis==0], 'o')\n",
    "plt.show()"
   ]
  },
  {
   "cell_type": "code",
   "execution_count": 16,
   "id": "7573541d",
   "metadata": {},
   "outputs": [
    {
     "data": {
      "image/png": "[encoded data removed]",
      "text/plain": [
       "<Figure size 432x288 with 1 Axes>"
      ]
     },
     "metadata": {
      "needs_background": "light"
     },
     "output_type": "display_data"
    }
   ],
   "source": [
    "plt.plot(df_train_nom.mean_texture[df_train_nom.diagnosis==1], df_train_nom.mean_smoothness[df_train_nom.diagnosis==1], 'o')\n",
    "plt.plot(df_train_nom.mean_texture[df_train_nom.diagnosis==0], df_train_nom.mean_smoothness[df_train_nom.diagnosis==0], 'o')\n",
    "plt.show()"
   ]
  },
  {
   "cell_type": "code",
   "execution_count": 17,
   "id": "b5fd0cff",
   "metadata": {},
   "outputs": [
    {
     "name": "stdout",
     "output_type": "stream",
     "text": [
      "Axes3DSubplot(0.125,0.125;0.775x0.755)\n"
     ]
    },
    {
     "data": {
      "image/png": "[encoded data removed]",
      "text/plain": [
       "<Figure size 432x288 with 1 Axes>"
      ]
     },
     "metadata": {
      "needs_background": "light"
     },
     "output_type": "display_data"
    }
   ],
   "source": [
    "from mpl_toolkits import mplot3d\n",
    "%matplotlib inline\n",
    "ax = plt.axes(projection='3d')\n",
    "ax.scatter3D(df_train_nom.mean_texture[df_train_nom.diagnosis==1], \\\n",
    "             df_train_nom.mean_smoothness[df_train_nom.diagnosis==1],\\\n",
    "             df_train_nom.mean_radius[df_train_nom.diagnosis==1] ,'o');\n",
    "\n",
    "ax.scatter3D(df_train_nom.mean_texture[df_train_nom.diagnosis==0],\\\n",
    "             df_train_nom.mean_smoothness[df_train_nom.diagnosis==0],\\\n",
    "             df_train_nom.mean_radius[df_train_nom.diagnosis==0] ,'o');\n",
    "print(ax)"
   ]
  },
  {
   "cell_type": "code",
   "execution_count": 18,
   "id": "d02556a8",
   "metadata": {},
   "outputs": [],
   "source": [
    "#mean_radius mean_texture mean_perimeter mean_area mean_smoothness diagnosis\n",
    "df_train_nom=df_train_nom[[\"mean_radius\", \"mean_texture\",\"mean_smoothness\",\"diagnosis\"]]\n",
    "df_train_nom_x=df_train_nom.iloc[:,:-1]\n",
    "df_train_nom_y=df_train_nom[[\"diagnosis\"]]\n",
    "\n",
    "df_test_nom=df_test_nom[[\"mean_radius\", \"mean_texture\",\"mean_smoothness\",\"diagnosis\"]]\n",
    "df_test_nom_x=df_test_nom.iloc[:,:-1]\n",
    "df_test_nom_y=df_test_nom[[\"diagnosis\"]]"
   ]
  },
  {
   "cell_type": "code",
   "execution_count": 19,
   "id": "8ba3591d",
   "metadata": {},
   "outputs": [],
   "source": [
    "#Normalizar el dataset en conjunto\n",
    "df_nom=norm(df,max_radius,max_texture,max_perimeter,max_area)\n",
    "\n",
    "#Separando el dataset en x e y\n",
    "df_nom=df_nom[[\"mean_radius\", \"mean_texture\",\"mean_smoothness\",\"diagnosis\"]]\n",
    "df_nom_x=df_nom.iloc[:,:-1]\n",
    "df_nom_y=df[[\"diagnosis\"]]"
   ]
  },
  {
   "cell_type": "code",
   "execution_count": 20,
   "id": "8efe0211",
   "metadata": {},
   "outputs": [],
   "source": [
    "#Separando el dataset en x e y\n",
    "df_2=df[[\"mean_radius\", \"mean_texture\",\"mean_smoothness\",\"diagnosis\"]]\n",
    "df_x=df_2.iloc[:,:-1]\n",
    "df_y=df[[\"diagnosis\"]] "
   ]
  },
  {
   "cell_type": "code",
   "execution_count": 21,
   "id": "ff06c4ec",
   "metadata": {},
   "outputs": [],
   "source": [
    "def svmFuntion(train_x,train_y,test_x,test_y):\n",
    "    clf = svm.SVC()\n",
    "    clf.fit(train_x, train_y)\n",
    "    result=clf.predict(test_x)\n",
    "    confusion_matrix_result = confusion_matrix(result,test_y)\n",
    "    TP=confusion_matrix_result[0][0]\n",
    "    FP=confusion_matrix_result[0][1]\n",
    "    FN=confusion_matrix_result[1][0]\n",
    "    TN=confusion_matrix_result[1][1]\n",
    "    accuracy=(TP+TN)/(TP+TN+FP+FN)\n",
    "    recall=TP/(TP+FN)\n",
    "    precision=TP/(TP+FP)\n",
    "    f1=(2*TP/(2*TP+FP+FN))\n",
    "    return accuracy,recall,precision,f1,confusion_matrix_result"
   ]
  },
  {
   "cell_type": "code",
   "execution_count": 22,
   "id": "8a2fec8f",
   "metadata": {},
   "outputs": [
    {
     "data": {
      "image/png": "[encoded data removed]",
      "text/plain": [
       "<Figure size 432x288 with 2 Axes>"
      ]
     },
     "metadata": {
      "needs_background": "light"
     },
     "output_type": "display_data"
    },
    {
     "name": "stdout",
     "output_type": "stream",
     "text": [
      "Accuracy: 0.9122807017543859\n",
      "Recall: 0.8648648648648649\n",
      "Precision: 0.8648648648648649\n",
      "F1: 0.8648648648648649\n"
     ]
    }
   ],
   "source": [
    "svm_accuracy,svm_recall,svm_precision,svm_f1,svm_confusion_matrix_result=svmFuntion(\\\n",
    "                df_train_nom_x,df_train_nom_y,df_test_nom_x,df_test_nom_y);\n",
    "cm_display = ConfusionMatrixDisplay(confusion_matrix = svm_confusion_matrix_result, display_labels = [1, 0])\n",
    "\n",
    "cm_display.plot()\n",
    "plt.show() \n",
    "print(\"Accuracy: \" + str(svm_accuracy))\n",
    "print(\"Recall: \" + str(svm_recall))\n",
    "print(\"Precision: \" + str(svm_precision))\n",
    "print(\"F1: \" + str(svm_f1))"
   ]
  },
  {
   "cell_type": "code",
   "execution_count": 23,
   "id": "20a3c28c",
   "metadata": {},
   "outputs": [
    {
     "name": "stdout",
     "output_type": "stream",
     "text": [
      "Dataset normalized by colums and divide columns in X and Y using support vector machine\n",
      "TEST mean :  \n",
      "Accuracy: 0.8839912280701754 max: 0.9649122807017544\n",
      "Recall: 0.9747619047619048 max: 1.0\n",
      "Precision: 0.8640517880052764 max: 0.9722222222222222\n",
      "Specificity: 0.9143397124921414 max: 0.9722222222222222\n"
     ]
    }
   ],
   "source": [
    "scoring = ['accuracy',\"recall\",\"precision\",\"f1\"]\n",
    "clf = svm.SVC(kernel='linear', C=1, random_state=0)\n",
    "svm_cv = cross_validate(clf, df_nom_x,df_nom_y, scoring=scoring, cv=10, return_train_score=True)\n",
    "\n",
    "def printResult(scores):\n",
    "    print(\"TEST mean :  \")\n",
    "    print(\"Accuracy: \" + str(scores[\"test_accuracy\"].mean()) + \" max: \" + str(scores[\"test_accuracy\"].max()))\n",
    "    print(\"Recall: \" + str(scores[\"test_recall\"].mean()) + \" max: \" + str(scores[\"test_recall\"].max()))\n",
    "    print(\"Precision: \" + str(scores[\"test_precision\"].mean()) + \" max: \" + str(scores[\"test_precision\"].max()))\n",
    "    print(\"Specificity: \" + str(scores[\"test_f1\"].mean()) +\" max: \" + str(scores[\"test_f1\"].max()))\n",
    "print(\"Dataset normalized by colums and divide columns in X and Y using support vector machine\")  \n",
    "printResult(svm_cv)"
   ]
  },
  {
   "cell_type": "code",
   "execution_count": 24,
   "id": "fd4765ad",
   "metadata": {},
   "outputs": [
    {
     "name": "stdout",
     "output_type": "stream",
     "text": [
      "Accuracy: 0.9149122807017545 max: 0.9473684210526315\n",
      "Recall: 0.8525690250085363 max: 0.9130434782608695\n",
      "Precision: 0.9193428338614474 max: 1.0\n",
      "F1: 0.8826663593397498 max: 0.9302325581395349\n"
     ]
    }
   ],
   "source": [
    "ss = ShuffleSplit(n_splits=10, test_size=0.2, random_state=0)\n",
    "aux=df_nom[[\"mean_radius\", \"mean_texture\",\"mean_smoothness\",\"diagnosis\"]]\n",
    "accuracy_svm_cv=np.array([])\n",
    "recall_svm_cv=np.array([])\n",
    "precision_svm_cv=np.array([])\n",
    "f1_svm_cv=np.array([])\n",
    "accuracy_now=0\n",
    "train_in=[]\n",
    "test_in=[]\n",
    "for train_index, test_index in ss.split(aux):\n",
    "    clf = svm.SVC(kernel='linear', C=1, random_state=0)\n",
    "    acc,re,pre,f,confusion_matrix_result=svmFuntion(\\\n",
    "                        aux.iloc[train_index,:-1],aux.iloc[train_index,-1:],\\\n",
    "                        aux.iloc[test_index,:-1],aux.iloc[test_index,-1:]) \n",
    "    if (accuracy_now<acc):\n",
    "        train_in = train_index\n",
    "        test_in = test_index\n",
    "    accuracy_svm_cv=np.append(accuracy_svm_cv, acc)\n",
    "    recall_svm_cv=np.append(recall_svm_cv, re)\n",
    "    precision_svm_cv=np.append(precision_svm_cv, pre)\n",
    "    f1_svm_cv=np.append(f1_svm_cv, f)\n",
    "\n",
    "print(\"Accuracy: \"+ str(accuracy_svm_cv.mean()) + \" max: \" + str(accuracy_svm_cv.max()) )\n",
    "print(\"Recall: \"+ str(recall_svm_cv.mean()) + \" max: \" + str(recall_svm_cv.max()) )\n",
    "print(\"Precision: \"+ str(precision_svm_cv.mean()) + \" max: \" + str(precision_svm_cv.max()) )\n",
    "print(\"F1: \"+ str(f1_svm_cv.mean()) + \" max: \" + str(f1_svm_cv.max()) )"
   ]
  },
  {
   "cell_type": "code",
   "execution_count": 25,
   "id": "f628e0f1",
   "metadata": {},
   "outputs": [],
   "source": [
    "def lr_fun(train_x,train_y,test_x,test_y):\n",
    "    reg = LogisticRegression().fit(train_x, train_y)\n",
    "    lr_result=reg.predict(test_x)\n",
    "    confusion_matrix_result = confusion_matrix(lr_result,test_y)\n",
    "    TP=confusion_matrix_result[0][0]\n",
    "    FP=confusion_matrix_result[0][1]\n",
    "    FN=confusion_matrix_result[1][0]\n",
    "    TN=confusion_matrix_result[1][1]\n",
    "    accuracy=(TP+TN)/(TP+TN+FP+FN)\n",
    "    recall=TP/(TP+FN)\n",
    "    precision=TP/(TP+FP)\n",
    "    f1=(2*TP/(2*TP+FP+FN))\n",
    "    return accuracy,recall,precision,f1,confusion_matrix_result"
   ]
  },
  {
   "cell_type": "code",
   "execution_count": 26,
   "id": "17fe4315",
   "metadata": {},
   "outputs": [
    {
     "data": {
      "image/png": "[encoded data removed]",
      "text/plain": [
       "<Figure size 432x288 with 2 Axes>"
      ]
     },
     "metadata": {
      "needs_background": "light"
     },
     "output_type": "display_data"
    },
    {
     "name": "stdout",
     "output_type": "stream",
     "text": [
      "Accuracy: 0.8596491228070176\n",
      "Recall: 0.6216216216216216\n",
      "Precision: 0.92\n",
      "F1: 0.7419354838709677\n"
     ]
    }
   ],
   "source": [
    "lr_accuracy,lr_recall,lr_precision,lr_f1,lr_confusion_matrix_result=lr_fun(\\\n",
    "            df_train_nom_x,df_train_nom_y,df_test_nom_x,df_test_nom_y)\n",
    "cm_display = ConfusionMatrixDisplay(confusion_matrix = lr_confusion_matrix_result, display_labels = [1, 0])\n",
    "cm_display.plot()\n",
    "plt.show() \n",
    "print(\"Accuracy: \" + str(lr_accuracy))\n",
    "print(\"Recall: \" + str(lr_recall))\n",
    "print(\"Precision: \" + str(lr_precision))\n",
    "print(\"F1: \" + str(lr_f1))"
   ]
  },
  {
   "cell_type": "code",
   "execution_count": 27,
   "id": "0894ba24",
   "metadata": {},
   "outputs": [
    {
     "name": "stdout",
     "output_type": "stream",
     "text": [
      "Dataset normalized by colums and divide columns in X and Y using llogistic regression\n",
      "TEST mean :  \n",
      "Accuracy: 0.8540726817042608 max: 0.9122807017543859\n",
      "Recall: 0.9661904761904763 max: 1.0\n",
      "Precision: 0.8335405973256897 max: 0.8974358974358975\n",
      "Specificity: 0.8928557306718726 max: 0.9350649350649352\n"
     ]
    }
   ],
   "source": [
    "scoring = ['accuracy',\"recall\",\"precision\",\"f1\"]\n",
    "clf = LogisticRegression()\n",
    "lr_cv = cross_validate(clf, df_nom_x,df_nom_y, scoring=scoring, cv=10, return_train_score=True)\n",
    "\n",
    "print(\"Dataset normalized by colums and divide columns in X and Y using llogistic regression\")  \n",
    "printResult(lr_cv)"
   ]
  },
  {
   "cell_type": "code",
   "execution_count": 28,
   "id": "49d16bba",
   "metadata": {},
   "outputs": [
    {
     "name": "stdout",
     "output_type": "stream",
     "text": [
      "Accuracy: 0.8666666666666668 max: 0.9122807017543859\n",
      "Recall: 0.6750731661319341 max: 0.7894736842105263\n",
      "Precision: 0.9648877056851195 max: 1.0\n",
      "F1: 0.7923945350290017 max: 0.8571428571428571\n"
     ]
    }
   ],
   "source": [
    "ss = ShuffleSplit(n_splits=10, test_size=0.2, random_state=0)\n",
    "aux=df_nom[[\"mean_radius\", \"mean_texture\",\"mean_smoothness\",\"diagnosis\"]]\n",
    "accuracy_lr_cv=np.array([])\n",
    "recall_lr_cv=np.array([])\n",
    "precision_lr_cv=np.array([])\n",
    "f1_lr_cv=np.array([])\n",
    "for train_index, test_index in ss.split(aux):\n",
    "    clf = LogisticRegression()\n",
    "    acc,re,pre,f,confusion_matrix_result=lr_fun(\\\n",
    "                        aux.iloc[train_index,:-1],aux.iloc[train_index,-1:],\\\n",
    "                        aux.iloc[test_index,:-1],aux.iloc[test_index,-1:]) \n",
    "    #cm_display = ConfusionMatrixDisplay(confusion_matrix = confusion_matrix_result, display_labels = [1, 0])\n",
    "    #cm_display.plot()\n",
    "    #plt.show() \n",
    "    accuracy_lr_cv=np.append(accuracy_lr_cv, acc)\n",
    "    recall_lr_cv=np.append(recall_lr_cv, re)\n",
    "    precision_lr_cv=np.append(precision_lr_cv, pre)\n",
    "    f1_lr_cv=np.append(f1_lr_cv, f)\n",
    "\n",
    "print(\"Accuracy: \"+ str(accuracy_lr_cv.mean()) + \" max: \" + str(accuracy_lr_cv.max()) )\n",
    "print(\"Recall: \"+ str(recall_lr_cv.mean()) + \" max: \" + str(recall_lr_cv.max()) )\n",
    "print(\"Precision: \"+ str(precision_lr_cv.mean()) + \" max: \" + str(precision_lr_cv.max()) )\n",
    "print(\"F1: \"+ str(f1_lr_cv.mean()) + \" max: \" + str(f1_lr_cv.max()) )\n"
   ]
  },
  {
   "cell_type": "code",
   "execution_count": 29,
   "id": "e0572252",
   "metadata": {},
   "outputs": [
    {
     "data": {
      "image/png": "[encoded data removed]",
      "text/plain": [
       "<Figure size 432x288 with 2 Axes>"
      ]
     },
     "metadata": {
      "needs_background": "light"
     },
     "output_type": "display_data"
    },
    {
     "name": "stdout",
     "output_type": "stream",
     "text": [
      "Accuracy: 0.9035087719298246\n",
      "Recall: 0.8108108108108109\n",
      "Precision: 0.8823529411764706\n",
      "F1: 0.8450704225352113\n"
     ]
    }
   ],
   "source": [
    "train[[\"mean_radius\", \"mean_texture\",\"mean_smoothness\",\"diagnosis\"]]\n",
    "test[[\"mean_radius\", \"mean_texture\",\"mean_smoothness\",\"diagnosis\"]]\n",
    "\n",
    "kmeans = KMeans(n_clusters=2, random_state=11).fit(\\\n",
    "            train[[\"mean_radius\", \"mean_texture\",\"mean_smoothness\"]])\n",
    "kmeans_result=kmeans.predict(test[[\"mean_radius\", \"mean_texture\",\"mean_smoothness\"]])\n",
    "\n",
    "for inde,k in enumerate(kmeans_result):\n",
    "    if kmeans_result[inde]== 0:\n",
    "        kmeans_result[inde]=1\n",
    "    else:\n",
    "        kmeans_result[inde]=0\n",
    "    \n",
    "confusion_matrix_result = confusion_matrix(kmeans_result,test[[\"diagnosis\"]])\n",
    "cm_display = ConfusionMatrixDisplay(confusion_matrix = confusion_matrix_result, display_labels = [1, 0])\n",
    "cm_display.plot()\n",
    "plt.show() \n",
    "#kmeans = KMeans(n_clusters=2, random_state=0).fit(df_nom_x)\n",
    "#kmeans.labels_\n",
    "TP=confusion_matrix_result[0][0]\n",
    "FP=confusion_matrix_result[0][1]\n",
    "FN=confusion_matrix_result[1][0]\n",
    "TN=confusion_matrix_result[1][1]\n",
    "kmeans_accuracy=(TP+TN)/(TP+TN+FP+FN)\n",
    "kmeans_recall=TP/(TP+FN)\n",
    "kmeans_precision=TP/(TP+FP)\n",
    "kmeans_f1=(2*TP/(2*TP+FP+FN))\n",
    "print(\"Accuracy: \" + str(kmeans_accuracy))\n",
    "print(\"Recall: \" + str(kmeans_recall))\n",
    "print(\"Precision: \" + str(kmeans_precision))\n",
    "print(\"F1: \" + str(kmeans_f1))"
   ]
  },
  {
   "cell_type": "code",
   "execution_count": 30,
   "id": "80464cc0",
   "metadata": {},
   "outputs": [
    {
     "data": {
      "text/plain": [
       "0.8450704225352113"
      ]
     },
     "execution_count": 30,
     "metadata": {},
     "output_type": "execute_result"
    }
   ],
   "source": [
    "svm_cv\n",
    "accuracy_svm_cv\n",
    "recall_svm_cv\n",
    "precision_svm_cv\n",
    "f1_svm_cv\n",
    "\n",
    "\n",
    "lr_cv\n",
    "accuracy_lr_cv\n",
    "recall_lr_cv\n",
    "precision_lr_cv\n",
    "f1_lr_cv\n",
    "\n",
    "kmeans_accuracy\n",
    "kmeans_recall\n",
    "kmeans_precision\n",
    "kmeans_f1"
   ]
  },
  {
   "cell_type": "code",
   "execution_count": 31,
   "id": "545161bc",
   "metadata": {},
   "outputs": [
    {
     "name": "stdout",
     "output_type": "stream",
     "text": [
      "+----------------------------------------+-----------------+---------------+------------------+-----------------+\n",
      "| Model                                  |   Accuracy Mean |   Recall Mean |   Precision Mean |   f1-score Mean |\n",
      "+========================================+=================+===============+==================+=================+\n",
      "| Support Vector Machine                 |        0.912281 |      0.864865 |         0.864865 |        0.864865 |\n",
      "+----------------------------------------+-----------------+---------------+------------------+-----------------+\n",
      "| Support Vector Machine cv              |        0.883991 |      0.974762 |         0.864052 |        0.91434  |\n",
      "+----------------------------------------+-----------------+---------------+------------------+-----------------+\n",
      "| Support Vector Machine cv ShuffleSplit |        0.914912 |      0.852569 |         0.919343 |        0.882666 |\n",
      "+----------------------------------------+-----------------+---------------+------------------+-----------------+\n",
      "| Linear Regresion                       |        0.859649 |      0.621622 |         0.92     |        0.741935 |\n",
      "+----------------------------------------+-----------------+---------------+------------------+-----------------+\n",
      "| Linear Regression cv                   |        0.854073 |      0.96619  |         0.833541 |        0.892856 |\n",
      "+----------------------------------------+-----------------+---------------+------------------+-----------------+\n",
      "| Linear Regression cv ShuffleSplit      |        0.866667 |      0.675073 |         0.964888 |        0.792395 |\n",
      "+----------------------------------------+-----------------+---------------+------------------+-----------------+\n",
      "| kmeans                                 |        0.903509 |      0.810811 |         0.882353 |        0.84507  |\n",
      "+----------------------------------------+-----------------+---------------+------------------+-----------------+\n"
     ]
    }
   ],
   "source": [
    "table = [['Model', 'Accuracy Mean','Recall Mean','Precision Mean','f1-score Mean'],\\\n",
    "         ['Support Vector Machine', svm_accuracy, svm_recall,svm_precision,svm_f1],\n",
    "         ['Support Vector Machine cv', svm_cv['test_accuracy'].mean(),\n",
    "          svm_cv['test_recall'].mean(),\n",
    "          svm_cv['test_precision'].mean(),\n",
    "          svm_cv['test_f1'].mean()],\n",
    "         ['Support Vector Machine cv ShuffleSplit', accuracy_svm_cv.mean(), \n",
    "          recall_svm_cv.mean(),\n",
    "          precision_svm_cv.mean(),\n",
    "          f1_svm_cv.mean()],\n",
    "         ['Linear Regresion', lr_accuracy, lr_recall,lr_precision,lr_f1],\n",
    "         ['Linear Regression cv', lr_cv['test_accuracy'].mean(), lr_cv['test_recall'].mean(),\n",
    "          lr_cv['test_precision'].mean(),lr_cv['test_f1'].mean()],\n",
    "         ['Linear Regression cv ShuffleSplit',\n",
    "          accuracy_lr_cv.mean(),\n",
    "          recall_lr_cv.mean(),\n",
    "          precision_lr_cv.mean(),\n",
    "          f1_lr_cv.mean()],\n",
    "         ['kmeans', kmeans_accuracy,kmeans_recall,kmeans_precision,kmeans_f1]]\n",
    "\n",
    "print(tabulate(table, headers='firstrow', tablefmt='grid'))\n"
   ]
  },
  {
   "cell_type": "code",
   "execution_count": 32,
   "id": "76d334c8",
   "metadata": {},
   "outputs": [
    {
     "name": "stdout",
     "output_type": "stream",
     "text": [
      "        svm    svm_cv  svm_cv_ss        lr     lr_cv  lr_cv_ss    kmeans\n",
      "0  0.912281  0.842105   0.894737  0.859649  0.824561  0.859649  0.903509\n",
      "1  0.912281  0.842105   0.938596  0.859649  0.824561  0.868421  0.903509\n",
      "2  0.912281  0.842105   0.877193  0.859649  0.807018  0.868421  0.903509\n",
      "3  0.912281  0.824561   0.912281  0.859649  0.824561  0.868421  0.903509\n",
      "4  0.912281  0.877193   0.912281  0.859649  0.824561  0.868421  0.903509\n",
      "5  0.912281  0.912281   0.894737  0.859649  0.894737  0.877193  0.903509\n",
      "6  0.912281  0.929825   0.921053  0.859649  0.912281  0.912281  0.903509\n",
      "7  0.912281  0.929825   0.921053  0.859649  0.894737  0.815789  0.903509\n",
      "8  0.912281  0.964912   0.929825  0.859649  0.912281  0.885965  0.903509\n",
      "9  0.912281  0.875000   0.947368  0.859649  0.821429  0.842105  0.903509\n"
     ]
    },
    {
     "data": {
      "image/png": "[encoded data removed]",
      "text/plain": [
       "<Figure size 432x288 with 1 Axes>"
      ]
     },
     "metadata": {
      "needs_background": "light"
     },
     "output_type": "display_data"
    }
   ],
   "source": [
    "d = {'svm': pd.Series(svm_accuracy),\n",
    "     'svm_cv': pd.Series(svm_cv['test_accuracy']),\n",
    "     'svm_cv_ss': pd.Series(accuracy_svm_cv),\n",
    "     'lr': pd.Series(lr_accuracy),\n",
    "     'lr_cv': pd.Series(lr_cv['test_accuracy']),\n",
    "     'lr_cv_ss': pd.Series(accuracy_lr_cv),\n",
    "     'kmeans': pd.Series(kmeans_accuracy),\n",
    "    }\n",
    "d['svm']=d['svm'][0]\n",
    "d['lr']=d['lr'][0]\n",
    "d['kmeans']=d['kmeans'][0]\n",
    "df = pd.DataFrame(d)\n",
    "print(df)\n",
    "plt.boxplot(df) \n",
    "plt.xticks([1, 2, 3,4,5,6,7], ['SVM','SVM CV',\n",
    "                       'SVM ShuffleSplit',\n",
    "                       'LR',\n",
    "                       'LR CV',\n",
    "                       'LR CV ShuffleSplit',\n",
    "                       'KMeans'])\n",
    "plt.show()"
   ]
  },
  {
   "cell_type": "code",
   "execution_count": 33,
   "id": "a4b0c74d",
   "metadata": {},
   "outputs": [
    {
     "name": "stdout",
     "output_type": "stream",
     "text": [
      "[197 215 323 336 366 489 363 567 208 527 498 524 251 352  97 134 294 520\n",
      "  22 234 426 122 462 225 206 270 408 243 235 516 244 523 316 221 528 370\n",
      " 211 305  51 453  49 492 202 245  34 247 318 403 317 255 472 432 543 216\n",
      " 356 443  82  11  47 261 212 499  80  99  50 541 287 480 337  72 470 220\n",
      " 519 210 364 269 510 327 147 511 265 374 116 397  48  63 449 509 127  35\n",
      " 441 222 427 151  64 563 419 517 232 529 446   2 109 307 198 552 260  71\n",
      " 355 105 187 436 302 564 195 439 253 156 351 291 346 111 533  14  37  25\n",
      " 233 332  77 473 551  38  66  85  29 452 494 345 254 430 262 334 445 170\n",
      " 458 175 423 477 535  73  30 548 518 107 392 279 148 560 422 306 504 163\n",
      " 290  46 389 407 312 513  84 378 304 514 130 388 298 547  87  58 102 500\n",
      " 324 112 252 273 229 114 333 404 154   9 138  33  18 274 447 433 434 238\n",
      " 512 165 239 117 460 292 126 268 339 343 451 293 329 538  17 242 331 326\n",
      " 314 103 320  89 172 381 405   8  36 201 415 177 241 479  27 131 135  76\n",
      "  21 213 358 155 180 230 566 183 128 169  40  90 181 153 365 491   3 459\n",
      " 393  10 308 264 361 143  65 379 259 236 145  98  19 188 100 387  95 119\n",
      "  32 286 463  45 196 113   0 207  13  44 325 465 421 354 373 409 391 347\n",
      " 231 125 561 166 338 406 121 530 442 425  57 531 277 493  75 315 375 275\n",
      " 136 344  78 282 544 410 400 133 349 440  86 380   1   5 413  70 137 431\n",
      "  43 474 471 490  53 227 150 542 167 376 546 418 483  94 161 301 295 444\n",
      " 558 539  88 545 160 412 226 455  41 526 303 340 435 466 217  26  93 209\n",
      "  68 299 106  96  83 185 124 284 382  60 159 559 448 248 505 204 192 278\n",
      " 223 174 321 525 398 506 123 417 200 450 240 272  92 495 176 395 457 367\n",
      " 250 554 456 182 281 555  61 484 330  74 424 537 522 194 190 168 313   7\n",
      " 249 461 368 189 390 486  81  91 149 297 267 110 350 353 319 556 300 140\n",
      " 157 162 310 534 399 152 139 322 481 469 276  79 199 562 402 132 476 362\n",
      "  24 497  59  12  62] [ 55 335 258 309 549 171  20 257 115 283 501 536 118 557   4 228 214 359\n",
      " 146  67 120 360 179  15 205 550  69 385 401 464 142 186  39 296 224 508\n",
      " 218 184 503 357 386  16  28 237 256 341 553 438 383 485 482 371 437 289\n",
      " 158 475 108 488 164 496 532 507 515 342 311  23 384 411   6  42 396 129\n",
      " 101  52  56 219 377 467 288 104 540 414 280 193  54 203 416 348 454 428\n",
      " 372 478 394 266 173 285  31 565 144 191 420 246 468 271 502 487 328 521\n",
      " 141 429 178 568 369 263]\n"
     ]
    }
   ],
   "source": [
    "print(str(train_in) +\" \"+str(test_in))"
   ]
  },
  {
   "cell_type": "code",
   "execution_count": 34,
   "id": "0ceeabce",
   "metadata": {},
   "outputs": [],
   "source": [
    "final_model = svm.SVC()\n",
    "final_model.fit(aux.iloc[train_in,:-1], aux.iloc[train_in,-1:])\n",
    "result=final_model.predict(aux.iloc[test_in,:-1])\n",
    "confusion_matrix_result = confusion_matrix(result,aux.iloc[test_in,-1:])\n",
    "TP=confusion_matrix_result[0][0]\n",
    "FP=confusion_matrix_result[0][1]\n",
    "FN=confusion_matrix_result[1][0]\n",
    "TN=confusion_matrix_result[1][1]\n",
    "accuracy=(TP+TN)/(TP+TN+FP+FN)\n",
    "recall=TP/(TP+FN)\n",
    "precision=TP/(TP+FP)\n",
    "f1=(2*TP/(2*TP+FP+FN))\n"
   ]
  },
  {
   "cell_type": "code",
   "execution_count": 35,
   "id": "b1e80567",
   "metadata": {},
   "outputs": [
    {
     "data": {
      "image/png": "[encoded data removed]",
      "text/plain": [
       "<Figure size 432x288 with 2 Axes>"
      ]
     },
     "metadata": {
      "needs_background": "light"
     },
     "output_type": "display_data"
    },
    {
     "name": "stdout",
     "output_type": "stream",
     "text": [
      "0.9473684210526315 0.8695652173913043 1.0 0.9302325581395349\n"
     ]
    }
   ],
   "source": [
    "cm_display = ConfusionMatrixDisplay(confusion_matrix = confusion_matrix_result, display_labels = [1, 0])\n",
    "cm_display.plot()\n",
    "plt.show() \n",
    "print(str(accuracy)+\" \"+str(recall)+\" \"+str(precision)+\" \"+str(f1))"
   ]
  },
  {
   "cell_type": "code",
   "execution_count": 36,
   "id": "28ac3b26",
   "metadata": {},
   "outputs": [],
   "source": [
    "\n",
    "Pkl_Filename = \"model/Pickle_RL_Model.pkl\"  \n",
    "\n",
    "with open(Pkl_Filename, 'wb') as file:  \n",
    "    pickle.dump(final_model, file)\n",
    "\n",
    "variable={\"mean_radius\":max_radius,\n",
    "\"mean_texture\":max_texture,\n",
    "\"mean_perimeter\":max_perimeter,\n",
    "\"mean_area\":max_area}\n",
    "\n",
    "json_string = json.dumps(variable)\n",
    "with open('model/json_data.json', 'w') as outfile:\n",
    "    outfile.write(json_string)\n"
   ]
  },
  {
   "cell_type": "code",
   "execution_count": 40,
   "id": "718900b3",
   "metadata": {},
   "outputs": [],
   "source": [
    "with open(Pkl_Filename, 'rb') as file:  \n",
    "    Pickled_LR_Model = pickle.load(file)\n",
    "    \n",
    "\n",
    "with open('model/json_data.json') as json_file:\n",
    "    numbers = json.load(json_file)\n"
   ]
  },
  {
   "cell_type": "code",
   "execution_count": 42,
   "id": "3a108c3c",
   "metadata": {},
   "outputs": [
    {
     "name": "stdout",
     "output_type": "stream",
     "text": [
      "   mean_radius  mean_texture  mean_primeter  mean_area  mean_smoothness\n",
      "0     1.437922      1.025458          186.9     2501.0              0.5\n",
      "[0]\n"
     ]
    }
   ],
   "source": [
    "data={\"mean_radius\": [40.42],\n",
    "      \"mean_texture\": [40.28],\n",
    "      \"mean_primeter\": [186.9],\n",
    "      \"mean_area\": [2501.0],\n",
    "     \"mean_smoothness\": [0.500]}\n",
    "\n",
    "dftry = pd.DataFrame(data)\n",
    "dftry[\"mean_radius\"]=dftry[\"mean_radius\"]/numbers[\"mean_radius\"]\n",
    "dftry[\"mean_texture\"]=dftry[\"mean_texture\"]/numbers[\"mean_texture\"]\n",
    "\n",
    "\n",
    "aux=dftry[[\"mean_radius\", \"mean_texture\",\"mean_smoothness\"]]\n",
    "print(dftry)\n",
    "\n",
    "Ypredict = Pickled_LR_Model.predict(aux)  \n",
    "print(Ypredict)"
   ]
  },
  {
   "cell_type": "code",
   "execution_count": null,
   "id": "d30eeeae",
   "metadata": {},
   "outputs": [],
   "source": []
  },
  {
   "cell_type": "code",
   "execution_count": null,
   "id": "95b97938",
   "metadata": {},
   "outputs": [],
   "source": []
  },
  {
   "cell_type": "code",
   "execution_count": null,
   "id": "1dc480d8",
   "metadata": {},
   "outputs": [],
   "source": []
  }
 ],
 "metadata": {
  "kernelspec": {
   "display_name": "Python 3 (ipykernel)",
   "language": "python",
   "name": "python3"
  },
  "language_info": {
   "codemirror_mode": {
    "name": "ipython",
    "version": 3
   },
   "file_extension": ".py",
   "mimetype": "text/x-python",
   "name": "python",
   "nbconvert_exporter": "python",
   "pygments_lexer": "ipython3",
   "version": "3.10.4"
  }
 },
 "nbformat": 4,
 "nbformat_minor": 5
}
